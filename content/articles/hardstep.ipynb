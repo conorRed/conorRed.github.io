{
 "cells": [
  {
   "cell_type": "code",
   "execution_count": 1,
   "id": "e0cfde91-837e-4bbe-99e7-20ae3c05fc02",
   "metadata": {},
   "outputs": [],
   "source": [
    "T = 10 # Time Earth/Biosphere is habitable."
   ]
  },
  {
   "cell_type": "markdown",
   "id": "7f89de03-f5c7-4e15-9967-75e2d944eba5",
   "metadata": {},
   "source": [
    "Conditional steps are those with a time constraint.\n",
    "* For easy steps, the unconditional time is close to the conditional time. \n",
    "* For a trial and error step, the completion time is distributed exponentially.\n",
    "* For low values of $\\tau$ (easy steps) the conditional and unconditional probability approach eachother."
   ]
  },
  {
   "cell_type": "code",
   "execution_count": 12,
   "id": "8dcc1917-b85d-44fb-b395-497f4a385651",
   "metadata": {},
   "outputs": [
    {
     "data": {
      "image/png": "[encoded data removed]",
      "text/plain": [
       "<Figure size 432x288 with 1 Axes>"
      ]
     },
     "metadata": {
      "needs_background": "light"
     },
     "output_type": "display_data"
    }
   ],
   "source": [
    "import matplotlib.pyplot as plt\n",
    "import numpy as np\n",
    "\n",
    "x = np.linspace(0, T, 100)\n",
    "tau = 0.5 # expected step time. Unconditional.\n",
    "y = np.exp(-x/tau)\n",
    "\n",
    "# cdf \n",
    "\n",
    "\n",
    "plt.plot(x, y)\n",
    "plt.show()"
   ]
  },
  {
   "cell_type": "code",
   "execution_count": null,
   "id": "9263f8c5-b7ea-480a-83ac-ce2f32a95de3",
   "metadata": {},
   "outputs": [],
   "source": []
  }
 ],
 "metadata": {
  "kernelspec": {
   "display_name": "Python 3 (ipykernel)",
   "language": "python",
   "name": "python3"
  },
  "language_info": {
   "codemirror_mode": {
    "name": "ipython",
    "version": 3
   },
   "file_extension": ".py",
   "mimetype": "text/x-python",
   "name": "python",
   "nbconvert_exporter": "python",
   "pygments_lexer": "ipython3",
   "version": "3.9.7"
  }
 },
 "nbformat": 4,
 "nbformat_minor": 5
}
